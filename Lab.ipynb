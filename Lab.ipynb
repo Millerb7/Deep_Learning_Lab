{
 "cells": [
  {
   "cell_type": "markdown",
   "metadata": {},
   "source": [
    "Dataset: Predict students' dropout and academic success\n",
    "\n",
    "https://www.kaggle.com/datasets/thedevastator/higher-education-predictors-of-student-retention\n"
   ]
  },
  {
   "cell_type": "markdown",
   "metadata": {},
   "source": [
    "# Lab Assignment Five: Wide and Deep Network Architectures\n",
    "\n",
    "## Introduction\n",
    "In this lab, you will select a prediction task to perform on your dataset, evaluate two different deep learning architectures and tune hyper-parameters for each architecture. If any part of the assignment is not clear, ask the instructor to clarify.\n",
    "\n",
    "This report is worth 10% of the final grade. Please upload a report (one per team) with all code used, visualizations, and text in a rendered Jupyter notebook. Any visualizations that cannot be embedded in the notebook, please provide screenshots of the output. The results should be reproducible using your report. Please carefully describe every assumption and every step in your report.\n",
    "\n",
    "## Dataset Selection\n",
    "Select a dataset similarly to lab one. That is, the dataset must be table data and must have categorical features. In terms of generalization performance, it is helpful to have a large dataset for building a wide and deep network. It is also helpful to have many different categorical features to create the embeddings and cross-product embeddings. It is fine to perform binary classification, multi-class classification, or regression. You are NOT allowed to use the census (i.e., Adult) dataset that was given as an example in class.\n"
   ]
  },
  {
   "cell_type": "code",
   "execution_count": 1,
   "metadata": {},
   "outputs": [],
   "source": [
    "import pandas as pd"
   ]
  },
  {
   "cell_type": "code",
   "execution_count": null,
   "metadata": {},
   "outputs": [],
   "source": [
    "# Data Loading\n"
   ]
  },
  {
   "cell_type": "markdown",
   "metadata": {},
   "source": [
    "\n",
    "---\n"
   ]
  },
  {
   "cell_type": "markdown",
   "metadata": {},
   "source": [
    "### Preparation (4 points total)\n",
    "\n",
    "#### Define and Prepare Your Class Variables (1 point)\n",
    "- Describe your process for defining and preparing class variables, including the variable representations used (int, float, one-hot, etc.).\n",
    "- Document any pre-processing methods for dimensionality reduction, scaling, etc.\n",
    "- List and justify any variables that were removed.\n",
    "- Provide a detailed description of the final dataset used for classification/regression, including any new variables you created.\n",
    "\n"
   ]
  },
  {
   "cell_type": "code",
   "execution_count": null,
   "metadata": {},
   "outputs": [],
   "source": [
    "#code"
   ]
  },
  {
   "cell_type": "markdown",
   "metadata": {},
   "source": [
    "#### Identify Cross-product Features (1 point)\n",
    "- Identify groups of features in your data that should be combined into cross-product features.\n",
    "- Provide a justification for why these features should be crossed or not.\n",
    "\n",
    "\n"
   ]
  },
  {
   "cell_type": "code",
   "execution_count": null,
   "metadata": {},
   "outputs": [],
   "source": []
  },
  {
   "cell_type": "markdown",
   "metadata": {},
   "source": [
    "#### Evaluation Metrics (1 point)\n",
    "- Choose and explain the metric(s) you will use to evaluate your algorithm’s performance.\n",
    "- Provide a detailed argument for why the chosen metric(s) are appropriate for your data and the task at hand.\n",
    "\n"
   ]
  },
  {
   "cell_type": "code",
   "execution_count": null,
   "metadata": {},
   "outputs": [],
   "source": []
  },
  {
   "cell_type": "markdown",
   "metadata": {},
   "source": [
    "#### Data Splitting Method (1 point)\n",
    "- Choose and justify the method you will use for dividing your data into training and testing sets.\n",
    "- Explain how this method is a realistic reflection of how an algorithm would be used in practice.\n"
   ]
  },
  {
   "cell_type": "code",
   "execution_count": null,
   "metadata": {},
   "outputs": [],
   "source": []
  },
  {
   "cell_type": "markdown",
   "metadata": {},
   "source": [
    "---"
   ]
  },
  {
   "cell_type": "markdown",
   "metadata": {},
   "source": [
    "\n",
    "### Modeling (5 points total)\n",
    "\n",
    "#### Create Wide and Deep Networks (2 points)\n",
    "- Create at least three combined wide and deep networks using Keras.\n",
    "- Visualize the performance of each network on the training data and validation data in the same plot versus the training iterations.\n"
   ]
  },
  {
   "cell_type": "code",
   "execution_count": null,
   "metadata": {},
   "outputs": [],
   "source": []
  },
  {
   "cell_type": "markdown",
   "metadata": {},
   "source": [
    "\n",
    "#### Investigate Generalization Performance (2 points)\n",
    "- Alter the number of layers in the deep branch of the network and evaluate the performance.\n",
    "- Compare the models using the chosen cross-validation method and evaluation metric to determine the superior model.\n",
    "- Use proper statistical methods to compare different models’ performance.\n"
   ]
  },
  {
   "cell_type": "code",
   "execution_count": null,
   "metadata": {},
   "outputs": [],
   "source": []
  },
  {
   "cell_type": "markdown",
   "metadata": {},
   "source": [
    "\n",
    "#### Performance Comparison (1 point)\n",
    "- Compare your best wide and deep network to a standard MLP or a deep-only network.\n",
    "- Use the appropriate statistical methods and visualizations to compare performance for classification or regression tasks.\n"
   ]
  },
  {
   "cell_type": "code",
   "execution_count": null,
   "metadata": {},
   "outputs": [],
   "source": []
  },
  {
   "cell_type": "markdown",
   "metadata": {},
   "source": [
    "\n",
    "---\n"
   ]
  },
  {
   "cell_type": "markdown",
   "metadata": {},
   "source": [
    "\n",
    "### Exceptional Work (1 point total)\n",
    "\n",
    "#### Additional Analyses for 5000 Level Students\n",
    "- Provide additional analyses as you see fit for the dataset and the task.\n",
    "\n",
    "#### Embedding Analysis for 7000 Level Students (Required)\n",
    "- Capture and analyze the embedding weights from the deep network.\n",
    "- If necessary, perform dimensionality reduction on these weights.\n",
    "- Visualize and explain any clusters or patterns observed in the data."
   ]
  },
  {
   "cell_type": "code",
   "execution_count": null,
   "metadata": {},
   "outputs": [],
   "source": []
  }
 ],
 "metadata": {
  "kernelspec": {
   "display_name": "Python 3",
   "language": "python",
   "name": "python3"
  },
  "language_info": {
   "codemirror_mode": {
    "name": "ipython",
    "version": 3
   },
   "file_extension": ".py",
   "mimetype": "text/x-python",
   "name": "python",
   "nbconvert_exporter": "python",
   "pygments_lexer": "ipython3",
   "version": "3.12.2"
  }
 },
 "nbformat": 4,
 "nbformat_minor": 2
}
